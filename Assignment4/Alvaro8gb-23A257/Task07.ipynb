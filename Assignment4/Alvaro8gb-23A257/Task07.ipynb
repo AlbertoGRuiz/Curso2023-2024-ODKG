{
 "cells": [
  {
   "cell_type": "markdown",
   "metadata": {
    "id": "nOOPLCHF7hLB"
   },
   "source": [
    "**Task 07: Querying RDF(s)**"
   ]
  },
  {
   "cell_type": "code",
   "execution_count": 1,
   "metadata": {
    "colab": {
     "base_uri": "https://localhost:8080/",
     "height": 211
    },
    "id": "Yl9npCt8n6m-",
    "outputId": "096014c0-f1ad-4bd6-bada-ab3561ff1367",
    "ExecuteTime": {
     "end_time": "2023-10-13T16:41:39.145800264Z",
     "start_time": "2023-10-13T16:41:38.472402473Z"
    }
   },
   "outputs": [
    {
     "name": "stdout",
     "output_type": "stream",
     "text": [
      "Requirement already satisfied: rdflib in /home/alvaro/Desktop/OpenData&KG/ODKG/.venv/lib/python3.10/site-packages (7.0.0)\r\n",
      "Requirement already satisfied: isodate<0.7.0,>=0.6.0 in /home/alvaro/Desktop/OpenData&KG/ODKG/.venv/lib/python3.10/site-packages (from rdflib) (0.6.1)\r\n",
      "Requirement already satisfied: pyparsing<4,>=2.1.0 in /home/alvaro/Desktop/OpenData&KG/ODKG/.venv/lib/python3.10/site-packages (from rdflib) (3.1.1)\r\n",
      "Requirement already satisfied: six in /home/alvaro/Desktop/OpenData&KG/ODKG/.venv/lib/python3.10/site-packages (from isodate<0.7.0,>=0.6.0->rdflib) (1.16.0)\r\n"
     ]
    }
   ],
   "source": [
    "!pip install rdflib\n",
    "github_storage = \"https://raw.githubusercontent.com/FacultadInformatica-LinkedData/Curso2023-2024/master/Assignment4/course_materials\""
   ]
  },
  {
   "cell_type": "markdown",
   "metadata": {
    "id": "XY7aPc86Bqoo"
   },
   "source": [
    "First let's read the RDF file"
   ]
  },
  {
   "cell_type": "code",
   "execution_count": 2,
   "metadata": {
    "colab": {
     "base_uri": "https://localhost:8080/",
     "height": 35
    },
    "id": "9ERh415on7kF",
    "outputId": "395dc571-ef76-4330-cf4b-0b9db3aa5277",
    "ExecuteTime": {
     "end_time": "2023-10-13T16:41:39.493733904Z",
     "start_time": "2023-10-13T16:41:39.148119691Z"
    }
   },
   "outputs": [
    {
     "data": {
      "text/plain": "<Graph identifier=Nb0364e2bbd064cb8b6a5888a90fdc68a (<class 'rdflib.graph.Graph'>)>"
     },
     "execution_count": 2,
     "metadata": {},
     "output_type": "execute_result"
    }
   ],
   "source": [
    "from rdflib import Graph, Namespace\n",
    "from rdflib.namespace import RDF, RDFS\n",
    "\n",
    "g = Graph()\n",
    "g.namespace_manager.bind('ns', Namespace(\"http://somewhere#\"), override=False)\n",
    "g.namespace_manager.bind('vcard', Namespace(\"http://www.w3.org/2001/vcard-rdf/3.0#\"), override=False)\n",
    "g.parse(github_storage + \"/rdf/example6.rdf\", format=\"xml\")"
   ]
  },
  {
   "cell_type": "code",
   "execution_count": 3,
   "outputs": [],
   "source": [
    "NS = Namespace(\"http://somewhere#\")\n",
    "FOAF = Namespace(\"http://xmlns.com/foaf/0.1/\")\n"
   ],
   "metadata": {
    "collapsed": false,
    "ExecuteTime": {
     "end_time": "2023-10-13T16:41:39.498178929Z",
     "start_time": "2023-10-13T16:41:39.496636748Z"
    }
   }
  },
  {
   "cell_type": "markdown",
   "metadata": {
    "id": "qp1oe2Eddsvo"
   },
   "source": [
    "**TASK 7.1: List all subclasses of \"LivingThing\" with RDFLib and SPARQL**"
   ]
  },
  {
   "cell_type": "code",
   "execution_count": 4,
   "metadata": {
    "id": "tRcSWuMHOXBl",
    "ExecuteTime": {
     "end_time": "2023-10-13T16:41:39.573139058Z",
     "start_time": "2023-10-13T16:41:39.499454875Z"
    }
   },
   "outputs": [
    {
     "name": "stdout",
     "output_type": "stream",
     "text": [
      "RDFlib:\n",
      "http://somewhere#Person\n",
      "http://somewhere#Animal\n",
      "SPARQL:\n",
      "http://somewhere#Person\n",
      "http://somewhere#Animal\n"
     ]
    }
   ],
   "source": [
    "from rdflib.plugins.sparql import prepareQuery\n",
    "\n",
    "print(\"RDFlib:\")\n",
    "for s, p, o in g.triples((None, RDFS.subClassOf, NS.LivingThing)):\n",
    "    print(s)\n",
    "\n",
    "print(\"SPARQL:\")\n",
    "q1 = prepareQuery('''\n",
    "  SELECT ?Subject WHERE {\n",
    "    ?Subject rdfs:subClassOf ns:LivingThing.\n",
    "  }\n",
    "  ''',\n",
    "                  initNs={\"rdfs\": RDFS, \"ns\": NS}\n",
    "                  )\n",
    "for r in g.query(q1):\n",
    "    print(r.Subject)"
   ]
  },
  {
   "cell_type": "markdown",
   "metadata": {
    "id": "gM3DASkTQQ5Y"
   },
   "source": [
    "**TASK 7.2: List all individuals of \"Person\" with RDFLib and SPARQL (remember the subClasses)**\n"
   ]
  },
  {
   "cell_type": "code",
   "execution_count": 5,
   "metadata": {
    "id": "LiKSPHRzS-XJ",
    "ExecuteTime": {
     "end_time": "2023-10-13T16:41:39.580530997Z",
     "start_time": "2023-10-13T16:41:39.578547762Z"
    }
   },
   "outputs": [
    {
     "name": "stdout",
     "output_type": "stream",
     "text": [
      "RDFlib:\n",
      "http://somewhere#SaraJones\n",
      "http://somewhere#JohnSmith\n",
      "http://somewhere#JaneSmith\n",
      "http://somewhere#JimGonzalez\n",
      "SPARQL:\n",
      "http://somewhere#SaraJones\n",
      "http://somewhere#JohnSmith\n",
      "http://somewhere#JaneSmith\n",
      "http://somewhere#JimGonzalez\n"
     ]
    }
   ],
   "source": [
    "from rdflib.plugins.sparql import prepareQuery\n",
    "\n",
    "print(\"RDFlib:\")\n",
    "for s, p, o in g.triples((None, RDF.type, NS.Person)):\n",
    "    print(s)\n",
    "\n",
    "for s1, p1, o1 in g.triples((None, RDFS.subClassOf, NS.Person)):\n",
    "    for s2, p2, o2 in g.triples((None, RDF.type, s1)):\n",
    "        print(s2)\n",
    "\n",
    "q2 = prepareQuery('''\n",
    "  SELECT ?Individual WHERE {\n",
    "    ?Subject rdfs:subClassOf* ns:Person.\n",
    "    ?Individual rdf:type ?Subject\n",
    "  }\n",
    "  ''',\n",
    "                  initNs={\"rdfs\": RDFS, \"ns\": NS, \"rdf\": RDF}\n",
    "                  )\n",
    "\n",
    "print(\"SPARQL:\")\n",
    "for r in g.query(q2):\n",
    "    print(r.Individual)\n"
   ]
  },
  {
   "cell_type": "markdown",
   "metadata": {
    "id": "MXBqtBkJd22I"
   },
   "source": [
    "**TASK 7.3: List all individuals of \"Person\" or \"Animal\" and all their properties including their class with RDFLib and SPARQL. You do not need to list the individuals of the subclasses of person**\n"
   ]
  },
  {
   "cell_type": "code",
   "execution_count": 6,
   "metadata": {
    "id": "APQGv3NHX8Tf",
    "ExecuteTime": {
     "end_time": "2023-10-13T16:41:39.625701358Z",
     "start_time": "2023-10-13T16:41:39.581777582Z"
    }
   },
   "outputs": [
    {
     "name": "stdout",
     "output_type": "stream",
     "text": [
      "RDFLIB\n",
      "http://somewhere#SaraJones http://www.w3.org/1999/02/22-rdf-syntax-ns#type http://somewhere#Person\n",
      "http://somewhere#SaraJones http://www.w3.org/2001/vcard-rdf/3.0/Given Sara\n",
      "http://somewhere#SaraJones http://www.w3.org/2001/vcard-rdf/3.0/FN Sara Jones\n",
      "http://somewhere#SaraJones http://www.w3.org/2001/vcard-rdf/3.0/Family Jones\n",
      "http://somewhere#SaraJones http://xmlns.com/foaf/0.1/knows http://somewhere#RockySmith\n",
      "http://somewhere#SaraJones http://xmlns.com/foaf/0.1/knows http://somewhere#JaneSmith\n",
      "http://somewhere#JohnSmith http://www.w3.org/1999/02/22-rdf-syntax-ns#type http://somewhere#Person\n",
      "http://somewhere#JohnSmith http://www.w3.org/2001/vcard-rdf/3.0/Given John\n",
      "http://somewhere#JohnSmith http://www.w3.org/2001/vcard-rdf/3.0/FN John Smith\n",
      "http://somewhere#JohnSmith http://www.w3.org/2001/vcard-rdf/3.0/Family Smith\n",
      "http://somewhere#SaraJones http://www.w3.org/1999/02/22-rdf-syntax-ns#type http://somewhere#Person\n",
      "http://somewhere#SaraJones http://www.w3.org/2001/vcard-rdf/3.0/Given Sara\n",
      "http://somewhere#SaraJones http://www.w3.org/2001/vcard-rdf/3.0/FN Sara Jones\n",
      "http://somewhere#SaraJones http://www.w3.org/2001/vcard-rdf/3.0/Family Jones\n",
      "http://somewhere#SaraJones http://xmlns.com/foaf/0.1/knows http://somewhere#RockySmith\n",
      "http://somewhere#SaraJones http://xmlns.com/foaf/0.1/knows http://somewhere#JaneSmith\n",
      "http://somewhere#JohnSmith http://www.w3.org/1999/02/22-rdf-syntax-ns#type http://somewhere#Person\n",
      "http://somewhere#JohnSmith http://www.w3.org/2001/vcard-rdf/3.0/Given John\n",
      "http://somewhere#JohnSmith http://www.w3.org/2001/vcard-rdf/3.0/FN John Smith\n",
      "http://somewhere#JohnSmith http://www.w3.org/2001/vcard-rdf/3.0/Family Smith\n",
      "SPARQL\n",
      "http://somewhere#RockySmith http://www.w3.org/1999/02/22-rdf-syntax-ns#type http://somewhere#Animal\n",
      "http://somewhere#RockySmith http://www.w3.org/2001/vcard-rdf/3.0/Given Rocky\n",
      "http://somewhere#RockySmith http://www.w3.org/2001/vcard-rdf/3.0/FN Rocky Smith\n",
      "http://somewhere#RockySmith http://www.w3.org/2001/vcard-rdf/3.0/Family Smith\n",
      "http://somewhere#RockySmith http://xmlns.com/foaf/0.1/knows http://somewhere#JaneSmith\n",
      "http://somewhere#RockySmith http://xmlns.com/foaf/0.1/knows http://somewhere#SaraJones\n",
      "http://somewhere#SaraJones http://www.w3.org/1999/02/22-rdf-syntax-ns#type http://somewhere#Person\n",
      "http://somewhere#SaraJones http://www.w3.org/2001/vcard-rdf/3.0/Given Sara\n",
      "http://somewhere#SaraJones http://www.w3.org/2001/vcard-rdf/3.0/FN Sara Jones\n",
      "http://somewhere#SaraJones http://www.w3.org/2001/vcard-rdf/3.0/Family Jones\n",
      "http://somewhere#SaraJones http://xmlns.com/foaf/0.1/knows http://somewhere#RockySmith\n",
      "http://somewhere#SaraJones http://xmlns.com/foaf/0.1/knows http://somewhere#JaneSmith\n",
      "http://somewhere#JohnSmith http://www.w3.org/1999/02/22-rdf-syntax-ns#type http://somewhere#Person\n",
      "http://somewhere#JohnSmith http://www.w3.org/2001/vcard-rdf/3.0/Given John\n",
      "http://somewhere#JohnSmith http://www.w3.org/2001/vcard-rdf/3.0/FN John Smith\n",
      "http://somewhere#JohnSmith http://www.w3.org/2001/vcard-rdf/3.0/Family Smith\n"
     ]
    }
   ],
   "source": [
    "from rdflib.plugins.sparql import prepareQuery\n",
    "\n",
    "print(\"RDFLIB\")\n",
    "for c in [NS.Person, NS.Animal]:\n",
    "    for s, p, o in g.triples((None, RDF.type, NS.Person)):\n",
    "        for s2, p2, o2 in g.triples((s, None, None)):\n",
    "            print(s2, p2, o2)\n",
    "print(\"SPARQL\")\n",
    "\n",
    "combined_query = prepareQuery('''\n",
    "    SELECT ?Subject ?p ?o WHERE {\n",
    "        {\n",
    "            ?Subject rdf:type ns:Animal.\n",
    "        } UNION {\n",
    "            ?Subject rdf:type ns:Person.\n",
    "        }\n",
    "        ?Subject ?p ?o\n",
    "    }\n",
    "    ''',\n",
    "                              initNs={\"rdfs\": RDFS, \"ns\": NS, \"rdf\": RDF}\n",
    "                              )\n",
    "\n",
    "# Execute the combined query\n",
    "for result in g.query(combined_query):\n",
    "    print(result.Subject, result.p, result.o)"
   ]
  },
  {
   "cell_type": "markdown",
   "source": [
    "**TASK 7.4:  List the name of the persoNS who know Rocky**"
   ],
   "metadata": {
    "id": "3NyI7M2VNr9R"
   }
  },
  {
   "cell_type": "code",
   "source": [
    "from rdflib.plugins.sparql import prepareQuery\n",
    "\n",
    "print(\"RDFLib:\")\n",
    "for s, p, o in g.triples((None, RDF.type, NS.Person)):\n",
    "    for s2, p2, o2 in g.triples((s, FOAF.knows, NS.RockySmith)):\n",
    "        print(s2)\n",
    "\n",
    "print(\"SPARQL:\")\n",
    "q4 = prepareQuery('''\n",
    "  SELECT ?Subject ?p ?o WHERE {\n",
    "    ?Subject rdf:type ns:Person.\n",
    "    ?Subject foaf:knows ns:RockySmith\n",
    "  }\n",
    "  ''',\n",
    "                  initNs={\"foaf\": FOAF, \"ns\": NS, \"rdf\": RDF}\n",
    "                  )\n",
    "for ns in g.query(q4):\n",
    "    print(ns.Subject)"
   ],
   "metadata": {
    "id": "I_CNoIKdNpbx",
    "ExecuteTime": {
     "end_time": "2023-10-13T16:41:39.626060974Z",
     "start_time": "2023-10-13T16:41:39.623945635Z"
    }
   },
   "execution_count": 7,
   "outputs": [
    {
     "name": "stdout",
     "output_type": "stream",
     "text": [
      "RDFLib:\n",
      "http://somewhere#SaraJones\n",
      "SPARQL:\n",
      "http://somewhere#SaraJones\n"
     ]
    }
   ]
  },
  {
   "cell_type": "markdown",
   "source": [
    "**Task 7.5: List the entities who know at least two other entities in the graph**"
   ],
   "metadata": {
    "id": "kyjGsyxDPa2C"
   }
  },
  {
   "cell_type": "code",
   "source": [
    "from collections import Counter\n",
    "from rdflib.plugins.sparql import prepareQuery\n",
    "\n",
    "print(\"RDFLib:\")\n",
    "\n",
    "entity_counts = Counter()\n",
    "\n",
    "for s, p, o in g.triples((None, FOAF.knows, None)):\n",
    "    entity_counts[s] += 1\n",
    "\n",
    "for entity, count in entity_counts.items():\n",
    "    if count >= 2:\n",
    "        print(f\"{entity}: knows {count} times\")\n",
    "\n",
    "print(\"SPARQL:\")\n",
    "\n",
    "q5 = prepareQuery('''\n",
    "    SELECT ?Subject WHERE {\n",
    "        ?Subject foaf:knows ?p1, ?p2.\n",
    "        FILTER (?p1 != ?p2)\n",
    "    }\n",
    "''',\n",
    "                  initNs={\"foaf\": FOAF}\n",
    "                  )\n",
    "\n",
    "entities = set()\n",
    "\n",
    "for row in g.query(q5):\n",
    "    entities.add(row.Subject)\n",
    "\n",
    "for entity in entities:\n",
    "    print(f\"Entity {entity} knows at least 2 other entities\")"
   ],
   "metadata": {
    "id": "yoVwVZUAPaLm",
    "ExecuteTime": {
     "end_time": "2023-10-13T16:42:14.203889387Z",
     "start_time": "2023-10-13T16:42:14.201890345Z"
    }
   },
   "execution_count": 11,
   "outputs": [
    {
     "name": "stdout",
     "output_type": "stream",
     "text": [
      "RDFLib:\n",
      "http://somewhere#RockySmith: knows 2 times\n",
      "http://somewhere#SaraJones: knows 2 times\n",
      "http://somewhere#JaneSmith: knows 2 times\n",
      "SPARQL:\n",
      "Entity http://somewhere#RockySmith knows at least 2 other entities\n",
      "Entity http://somewhere#SaraJones knows at least 2 other entities\n",
      "Entity http://somewhere#JaneSmith knows at least 2 other entities\n"
     ]
    }
   ]
  }
 ],
 "metadata": {
  "colab": {
   "provenance": []
  },
  "kernelspec": {
   "display_name": "Python 3 (ipykernel)",
   "language": "python",
   "name": "python3"
  },
  "language_info": {
   "codemirror_mode": {
    "name": "ipython",
    "version": 3
   },
   "file_extension": ".py",
   "mimetype": "text/x-python",
   "name": "python",
   "nbconvert_exporter": "python",
   "pygments_lexer": "ipython3",
   "version": "3.9.5"
  }
 },
 "nbformat": 4,
 "nbformat_minor": 0
}
